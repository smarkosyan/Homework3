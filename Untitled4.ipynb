{
  "nbformat": 4,
  "nbformat_minor": 0,
  "metadata": {
    "colab": {
      "name": "Untitled4.ipynb",
      "provenance": []
    },
    "kernelspec": {
      "name": "python3",
      "display_name": "Python 3"
    }
  },
  "cells": [
    {
      "cell_type": "code",
      "metadata": {
        "id": "zziwP2IhLcMM",
        "colab_type": "code",
        "colab": {
          "base_uri": "https://localhost:8080/",
          "height": 1000
        },
        "outputId": "03ac9847-e22c-4854-89fe-97b1dc7085d3"
      },
      "source": [
        "!pip install scrapy"
      ],
      "execution_count": 1,
      "outputs": [
        {
          "output_type": "stream",
          "text": [
            "Collecting scrapy\n",
            "\u001b[?25l  Downloading https://files.pythonhosted.org/packages/d2/b1/105fe9a289e5bb64ec104076546f72060296d9989a0fc31a8b608c810868/Scrapy-2.2.0-py2.py3-none-any.whl (241kB)\n",
            "\u001b[K     |████████████████████████████████| 245kB 2.8MB/s \n",
            "\u001b[?25hCollecting protego>=0.1.15\n",
            "\u001b[?25l  Downloading https://files.pythonhosted.org/packages/db/6e/bf6d5e4d7cf233b785719aaec2c38f027b9c2ed980a0015ec1a1cced4893/Protego-0.1.16.tar.gz (3.2MB)\n",
            "\u001b[K     |████████████████████████████████| 3.2MB 8.7MB/s \n",
            "\u001b[?25hCollecting PyDispatcher>=2.0.5\n",
            "  Downloading https://files.pythonhosted.org/packages/cd/37/39aca520918ce1935bea9c356bcbb7ed7e52ad4e31bff9b943dfc8e7115b/PyDispatcher-2.0.5.tar.gz\n",
            "Collecting cryptography>=2.0\n",
            "\u001b[?25l  Downloading https://files.pythonhosted.org/packages/3c/04/686efee2dcdd25aecf357992e7d9362f443eb182ecd623f882bc9f7a6bba/cryptography-2.9.2-cp35-abi3-manylinux2010_x86_64.whl (2.7MB)\n",
            "\u001b[K     |████████████████████████████████| 2.7MB 29.2MB/s \n",
            "\u001b[?25hRequirement already satisfied: lxml>=3.5.0 in /usr/local/lib/python3.6/dist-packages (from scrapy) (4.2.6)\n",
            "Collecting w3lib>=1.17.0\n",
            "  Downloading https://files.pythonhosted.org/packages/a3/59/b6b14521090e7f42669cafdb84b0ab89301a42f1f1a82fcf5856661ea3a7/w3lib-1.22.0-py2.py3-none-any.whl\n",
            "Collecting itemadapter>=0.1.0\n",
            "  Downloading https://files.pythonhosted.org/packages/7d/fb/92f848fcfa85dc9f95370eaecb5c99b5230dd4fc5c6bae684f4ca59df973/itemadapter-0.1.0-py3-none-any.whl\n",
            "Collecting parsel>=1.5.0\n",
            "  Downloading https://files.pythonhosted.org/packages/23/1e/9b39d64cbab79d4362cdd7be7f5e9623d45c4a53b3f7522cd8210df52d8e/parsel-1.6.0-py2.py3-none-any.whl\n",
            "Collecting cssselect>=0.9.1\n",
            "  Downloading https://files.pythonhosted.org/packages/3b/d4/3b5c17f00cce85b9a1e6f91096e1cc8e8ede2e1be8e96b87ce1ed09e92c5/cssselect-1.1.0-py2.py3-none-any.whl\n",
            "Collecting pyOpenSSL>=16.2.0\n",
            "\u001b[?25l  Downloading https://files.pythonhosted.org/packages/9e/de/f8342b68fa9e981d348039954657bdf681b2ab93de27443be51865ffa310/pyOpenSSL-19.1.0-py2.py3-none-any.whl (53kB)\n",
            "\u001b[K     |████████████████████████████████| 61kB 8.0MB/s \n",
            "\u001b[?25hCollecting queuelib>=1.4.2\n",
            "  Downloading https://files.pythonhosted.org/packages/4c/85/ae64e9145f39dd6d14f8af3fa809a270ef3729f3b90b3c0cf5aa242ab0d4/queuelib-1.5.0-py2.py3-none-any.whl\n",
            "Collecting zope.interface>=4.1.3\n",
            "\u001b[?25l  Downloading https://files.pythonhosted.org/packages/57/33/565274c28a11af60b7cfc0519d46bde4125fcd7d32ebc0a81b480d0e8da6/zope.interface-5.1.0-cp36-cp36m-manylinux2010_x86_64.whl (234kB)\n",
            "\u001b[K     |████████████████████████████████| 235kB 45.9MB/s \n",
            "\u001b[?25hCollecting Twisted>=17.9.0\n",
            "\u001b[?25l  Downloading https://files.pythonhosted.org/packages/b7/04/1a664c9e5ec0224a1c1a154ddecaa4dc7b8967521bba225efcc41a03d5f3/Twisted-20.3.0-cp36-cp36m-manylinux1_x86_64.whl (3.1MB)\n",
            "\u001b[K     |████████████████████████████████| 3.1MB 46.7MB/s \n",
            "\u001b[?25hCollecting service-identity>=16.0.0\n",
            "  Downloading https://files.pythonhosted.org/packages/e9/7c/2195b890023e098f9618d43ebc337d83c8b38d414326685339eb024db2f6/service_identity-18.1.0-py2.py3-none-any.whl\n",
            "Requirement already satisfied: six in /usr/local/lib/python3.6/dist-packages (from protego>=0.1.15->scrapy) (1.12.0)\n",
            "Requirement already satisfied: cffi!=1.11.3,>=1.8 in /usr/local/lib/python3.6/dist-packages (from cryptography>=2.0->scrapy) (1.14.0)\n",
            "Requirement already satisfied: setuptools in /usr/local/lib/python3.6/dist-packages (from zope.interface>=4.1.3->scrapy) (47.3.1)\n",
            "Collecting constantly>=15.1\n",
            "  Downloading https://files.pythonhosted.org/packages/b9/65/48c1909d0c0aeae6c10213340ce682db01b48ea900a7d9fce7a7910ff318/constantly-15.1.0-py2.py3-none-any.whl\n",
            "Collecting Automat>=0.3.0\n",
            "  Downloading https://files.pythonhosted.org/packages/dd/83/5f6f3c1a562674d65efc320257bdc0873ec53147835aeef7762fe7585273/Automat-20.2.0-py2.py3-none-any.whl\n",
            "Collecting PyHamcrest!=1.10.0,>=1.9.0\n",
            "\u001b[?25l  Downloading https://files.pythonhosted.org/packages/40/16/e54cc65891f01cb62893540f44ffd3e8dab0a22443e1b438f1a9f5574bee/PyHamcrest-2.0.2-py3-none-any.whl (52kB)\n",
            "\u001b[K     |████████████████████████████████| 61kB 8.6MB/s \n",
            "\u001b[?25hCollecting hyperlink>=17.1.1\n",
            "  Downloading https://files.pythonhosted.org/packages/7f/91/e916ca10a2de1cb7101a9b24da546fb90ee14629e23160086cf3361c4fb8/hyperlink-19.0.0-py2.py3-none-any.whl\n",
            "Collecting incremental>=16.10.1\n",
            "  Downloading https://files.pythonhosted.org/packages/f5/1d/c98a587dc06e107115cf4a58b49de20b19222c83d75335a192052af4c4b7/incremental-17.5.0-py2.py3-none-any.whl\n",
            "Requirement already satisfied: attrs>=19.2.0 in /usr/local/lib/python3.6/dist-packages (from Twisted>=17.9.0->scrapy) (19.3.0)\n",
            "Requirement already satisfied: pyasn1-modules in /usr/local/lib/python3.6/dist-packages (from service-identity>=16.0.0->scrapy) (0.2.8)\n",
            "Requirement already satisfied: pyasn1 in /usr/local/lib/python3.6/dist-packages (from service-identity>=16.0.0->scrapy) (0.4.8)\n",
            "Requirement already satisfied: pycparser in /usr/local/lib/python3.6/dist-packages (from cffi!=1.11.3,>=1.8->cryptography>=2.0->scrapy) (2.20)\n",
            "Requirement already satisfied: idna>=2.5 in /usr/local/lib/python3.6/dist-packages (from hyperlink>=17.1.1->Twisted>=17.9.0->scrapy) (2.9)\n",
            "Building wheels for collected packages: protego, PyDispatcher\n",
            "  Building wheel for protego (setup.py) ... \u001b[?25l\u001b[?25hdone\n",
            "  Created wheel for protego: filename=Protego-0.1.16-cp36-none-any.whl size=7765 sha256=8486bc7fe3543ece83427fa11e9209bb6abad5d2f78277a213b56a55a0bd7b2d\n",
            "  Stored in directory: /root/.cache/pip/wheels/51/01/d1/4a2286a976dccd025ba679acacfe37320540df0f2283ecab12\n",
            "  Building wheel for PyDispatcher (setup.py) ... \u001b[?25l\u001b[?25hdone\n",
            "  Created wheel for PyDispatcher: filename=PyDispatcher-2.0.5-cp36-none-any.whl size=11515 sha256=e21cb9092741706b9442eac241d4461633448fec9d25709bff1f5c24f634bfb6\n",
            "  Stored in directory: /root/.cache/pip/wheels/88/99/96/cfef6665f9cb1522ee6757ae5955feedf2fe25f1737f91fa7f\n",
            "Successfully built protego PyDispatcher\n",
            "Installing collected packages: protego, PyDispatcher, cryptography, w3lib, itemadapter, cssselect, parsel, pyOpenSSL, queuelib, zope.interface, constantly, Automat, PyHamcrest, hyperlink, incremental, Twisted, service-identity, scrapy\n",
            "Successfully installed Automat-20.2.0 PyDispatcher-2.0.5 PyHamcrest-2.0.2 Twisted-20.3.0 constantly-15.1.0 cryptography-2.9.2 cssselect-1.1.0 hyperlink-19.0.0 incremental-17.5.0 itemadapter-0.1.0 parsel-1.6.0 protego-0.1.16 pyOpenSSL-19.1.0 queuelib-1.5.0 scrapy-2.2.0 service-identity-18.1.0 w3lib-1.22.0 zope.interface-5.1.0\n"
          ],
          "name": "stdout"
        }
      ]
    },
    {
      "cell_type": "code",
      "metadata": {
        "id": "ZPDM1uUuLkMf",
        "colab_type": "code",
        "colab": {}
      },
      "source": [
        "import re\n",
        "import time\n",
        "import requests\n",
        "import numpy as np\n",
        "import pandas as pd\n",
        "from scrapy.http import TextResponse"
      ],
      "execution_count": 2,
      "outputs": []
    },
    {
      "cell_type": "code",
      "metadata": {
        "id": "kFMIONciLmts",
        "colab_type": "code",
        "colab": {}
      },
      "source": [
        "url = \"http://books.toscrape.com/\"\n",
        "base_url = \"http://books.toscrape.com/\""
      ],
      "execution_count": 3,
      "outputs": []
    },
    {
      "cell_type": "code",
      "metadata": {
        "id": "6fl5qWmjLt6Q",
        "colab_type": "code",
        "colab": {}
      },
      "source": [
        "class Books:\n",
        "    def __init__(self,url):\n",
        "        self.url = url\n",
        "        self.page = requests.get(self.url)\n",
        "        self.response = TextResponse(body=self.page.text,url=self.url,encoding=\"utf-8\")\n",
        "\n",
        "    def get_next(self):\n",
        "        next_url = self.response.css(\"li.next a::attr(href)\").extract()\n",
        "        return next_url\n",
        "\n",
        "    def get_title(self):\n",
        "        title = self.response.css('article[class=\"product_pod\"] h3 a::attr(title)').extract();\n",
        "        return title\n",
        "\n",
        "    def get_rating(self):\n",
        "        rating = self.response.css('p[class*=\"star-rating\"]::attr(class)').extract()\n",
        "        rating = [i.replace('star-rating','').strip() for i in rating]\n",
        "        return rating \n",
        "\n",
        "    def get_price(self):\n",
        "        price = self.response.css(\".price_color::text\").extract()\n",
        "        price = [i.replace('Â£','') for i in price]\n",
        "        return price \n",
        "\n",
        "    def get_book_url(self):\n",
        "         book_url = [base_url+i for i in self.response.css('article[class=\"product_pod\"] h3 a::attr(href)').extract()]\n",
        "         return book_url\n",
        "\n",
        "    def get_image_url(self):\n",
        "        img_url = [base_url+i for i in self.response.css('.thumbnail::attr(src)').extract()]\n",
        "        return img_url\n",
        "\n",
        "    def get_instock(self):\n",
        "        in_stock = self.response.css('.instock::text').extract()\n",
        "        in_stock = [i.replace('\\n','').strip() for i in in_stock]\n",
        "        return in_stock[1::2]\n",
        "\n",
        "    def get_genre(self):\n",
        "        book_genre = self.response.css('.breadcrumb li:nth-child(3) a::text').extract()\n",
        "        return(book_genre)\n",
        "\n",
        "    def get_desc(self):\n",
        "        book_desc = self.response.xpath('//article/p/text()').extract()\n",
        "        return book_desc"
      ],
      "execution_count": 4,
      "outputs": []
    },
    {
      "cell_type": "code",
      "metadata": {
        "id": "QOcW5hGKLywF",
        "colab_type": "code",
        "colab": {}
      },
      "source": [
        "bks = Books(url)\n",
        "titles = []\n",
        "ratings = []\n",
        "prices = []\n",
        "book_urls =[]\n",
        "image_urls =[]\n",
        "in_stock = []\n",
        "genres = []\n",
        "descriptions = []\n",
        "desc = []\n",
        "books = []"
      ],
      "execution_count": 5,
      "outputs": []
    },
    {
      "cell_type": "code",
      "metadata": {
        "id": "H47ZWPyPL2hk",
        "colab_type": "code",
        "colab": {}
      },
      "source": [
        "while True:\n",
        "    if(bks.get_next() == []):\n",
        "        titles = titles + bks.get_title()\n",
        "        ratings = ratings + bks.get_rating()\n",
        "        prices = prices + bks.get_price()\n",
        "        book_urls = book_urls + bks.get_book_url()\n",
        "        image_urls = image_urls + bks.get_image_url()\n",
        "        in_stock = in_stock + bks.get_instock()\n",
        "        break\n",
        "    else:\n",
        "        titles = titles + bks.get_title()\n",
        "        ratings = ratings + bks.get_rating()\n",
        "        prices = prices + bks.get_price()\n",
        "        book_urls = book_urls + bks.get_book_url()\n",
        "        image_urls = image_urls + bks.get_image_url()\n",
        "        in_stock = in_stock + bks.get_instock()\n",
        "        u = bks.get_next()[0].replace('catalogue/','')\n",
        "        url = base_url + 'catalogue/' + u\n",
        "        bks = Books(url)\n",
        "\n",
        "for i in book_urls:\n",
        "    if('catalogue/' not in i):\n",
        "        index = str(i).index(base_url) + len(base_url)\n",
        "        i = i[:index] + 'catalogue/' + i[index:]\n",
        "    bks = Books(i)\n",
        "    genres = genres + bks.get_genre()\n",
        "    for k in bks.get_desc():\n",
        "        desc.append(str(k).strip().strip('\\n'))"
      ],
      "execution_count": 6,
      "outputs": []
    },
    {
      "cell_type": "code",
      "metadata": {
        "id": "M7eM_nRqL5dF",
        "colab_type": "code",
        "colab": {}
      },
      "source": [
        "descriptions = [i for i in desc if len(i)>0]"
      ],
      "execution_count": 7,
      "outputs": []
    },
    {
      "cell_type": "code",
      "metadata": {
        "id": "FcSo8RqmM14D",
        "colab_type": "code",
        "colab": {}
      },
      "source": [
        "books.append(titles)\n",
        "books.append(ratings)\n",
        "books.append(prices)\n",
        "books.append(book_urls)\n",
        "books.append(image_urls)\n",
        "books.append(in_stock)\n",
        "books.append(genres)\n",
        "books.append(descriptions)"
      ],
      "execution_count": 8,
      "outputs": []
    },
    {
      "cell_type": "code",
      "metadata": {
        "id": "T5QDrLNMM41r",
        "colab_type": "code",
        "colab": {}
      },
      "source": [
        "books = list(map(list, zip(*books)))\n",
        "books_df = pd.DataFrame(books, columns=['Titles','Ratings','Prices','Book link','Image link','Availability','Genre','Description'])\n"
      ],
      "execution_count": 9,
      "outputs": []
    },
    {
      "cell_type": "code",
      "metadata": {
        "id": "SBqEh_S8M9RD",
        "colab_type": "code",
        "colab": {
          "base_uri": "https://localhost:8080/",
          "height": 17
        },
        "outputId": "240d935d-4ec9-44bc-bb69-fdd5da78ba37"
      },
      "source": [
        "from google.colab import files\n",
        "books_df.to_csv('HWproblem1.csv')\n",
        "files.download('HWproblem1.csv')"
      ],
      "execution_count": 10,
      "outputs": [
        {
          "output_type": "display_data",
          "data": {
            "application/javascript": [
              "\n",
              "    async function download(id, filename, size) {\n",
              "      if (!google.colab.kernel.accessAllowed) {\n",
              "        return;\n",
              "      }\n",
              "      const div = document.createElement('div');\n",
              "      const label = document.createElement('label');\n",
              "      label.textContent = `Downloading \"${filename}\": `;\n",
              "      div.appendChild(label);\n",
              "      const progress = document.createElement('progress');\n",
              "      progress.max = size;\n",
              "      div.appendChild(progress);\n",
              "      document.body.appendChild(div);\n",
              "\n",
              "      const buffers = [];\n",
              "      let downloaded = 0;\n",
              "\n",
              "      const channel = await google.colab.kernel.comms.open(id);\n",
              "      // Send a message to notify the kernel that we're ready.\n",
              "      channel.send({})\n",
              "\n",
              "      for await (const message of channel.messages) {\n",
              "        // Send a message to notify the kernel that we're ready.\n",
              "        channel.send({})\n",
              "        if (message.buffers) {\n",
              "          for (const buffer of message.buffers) {\n",
              "            buffers.push(buffer);\n",
              "            downloaded += buffer.byteLength;\n",
              "            progress.value = downloaded;\n",
              "          }\n",
              "        }\n",
              "      }\n",
              "      const blob = new Blob(buffers, {type: 'application/binary'});\n",
              "      const a = document.createElement('a');\n",
              "      a.href = window.URL.createObjectURL(blob);\n",
              "      a.download = filename;\n",
              "      div.appendChild(a);\n",
              "      a.click();\n",
              "      div.remove();\n",
              "    }\n",
              "  "
            ],
            "text/plain": [
              "<IPython.core.display.Javascript object>"
            ]
          },
          "metadata": {
            "tags": []
          }
        },
        {
          "output_type": "display_data",
          "data": {
            "application/javascript": [
              "download(\"download_2fd6fa01-441e-41cf-b975-8dd63ae32357\", \"HWproblem1.csv\", 1698019)"
            ],
            "text/plain": [
              "<IPython.core.display.Javascript object>"
            ]
          },
          "metadata": {
            "tags": []
          }
        }
      ]
    },
    {
      "cell_type": "code",
      "metadata": {
        "id": "YAmB6oiSNbjz",
        "colab_type": "code",
        "colab": {}
      },
      "source": [
        "# 4. Answer the following question:\n",
        "# a. What is the average price of all books?"
      ],
      "execution_count": 14,
      "outputs": []
    },
    {
      "cell_type": "code",
      "metadata": {
        "id": "2elPAw3BNOo0",
        "colab_type": "code",
        "colab": {}
      },
      "source": [
        "Average = sum(map(float,prices))/len(prices)"
      ],
      "execution_count": 11,
      "outputs": []
    },
    {
      "cell_type": "code",
      "metadata": {
        "id": "VK7DhLBINSZs",
        "colab_type": "code",
        "colab": {
          "base_uri": "https://localhost:8080/",
          "height": 34
        },
        "outputId": "909ae4eb-fe37-4f1c-e816-5188657c1604"
      },
      "source": [
        "print(Average)"
      ],
      "execution_count": 12,
      "outputs": [
        {
          "output_type": "stream",
          "text": [
            "35.07034999999999\n"
          ],
          "name": "stdout"
        }
      ]
    },
    {
      "cell_type": "code",
      "metadata": {
        "id": "4c2qkomYNuT0",
        "colab_type": "code",
        "colab": {}
      },
      "source": [
        "# b. Which genre is the most expensive one?"
      ],
      "execution_count": 16,
      "outputs": []
    },
    {
      "cell_type": "code",
      "metadata": {
        "id": "EF2CxhO9NmZz",
        "colab_type": "code",
        "colab": {
          "base_uri": "https://localhost:8080/",
          "height": 1000
        },
        "outputId": "d162e07d-1ecb-4744-a4dd-f859ad53d1e4"
      },
      "source": [
        "books_df.sort_values(by = [\"Prices\"],ascending = False).head(10)"
      ],
      "execution_count": 15,
      "outputs": [
        {
          "output_type": "execute_result",
          "data": {
            "text/html": [
              "<div>\n",
              "<style scoped>\n",
              "    .dataframe tbody tr th:only-of-type {\n",
              "        vertical-align: middle;\n",
              "    }\n",
              "\n",
              "    .dataframe tbody tr th {\n",
              "        vertical-align: top;\n",
              "    }\n",
              "\n",
              "    .dataframe thead th {\n",
              "        text-align: right;\n",
              "    }\n",
              "</style>\n",
              "<table border=\"1\" class=\"dataframe\">\n",
              "  <thead>\n",
              "    <tr style=\"text-align: right;\">\n",
              "      <th></th>\n",
              "      <th>Titles</th>\n",
              "      <th>Ratings</th>\n",
              "      <th>Prices</th>\n",
              "      <th>Book link</th>\n",
              "      <th>Image link</th>\n",
              "      <th>Availability</th>\n",
              "      <th>Genre</th>\n",
              "      <th>Description</th>\n",
              "    </tr>\n",
              "  </thead>\n",
              "  <tbody>\n",
              "    <tr>\n",
              "      <th>648</th>\n",
              "      <td>The Perfect Play (Play by Play #1)</td>\n",
              "      <td>Three</td>\n",
              "      <td>59.99</td>\n",
              "      <td>http://books.toscrape.com/the-perfect-play-pla...</td>\n",
              "      <td>http://books.toscrape.com/../media/cache/40/16...</td>\n",
              "      <td>In stock</td>\n",
              "      <td>Romance</td>\n",
              "      <td>Dolssa is a young gentlewoman with uncanny gif...</td>\n",
              "    </tr>\n",
              "    <tr>\n",
              "      <th>617</th>\n",
              "      <td>Last One Home (New Beginnings #1)</td>\n",
              "      <td>Three</td>\n",
              "      <td>59.98</td>\n",
              "      <td>http://books.toscrape.com/last-one-home-new-be...</td>\n",
              "      <td>http://books.toscrape.com/../media/cache/e4/0a...</td>\n",
              "      <td>In stock</td>\n",
              "      <td>Fiction</td>\n",
              "      <td>Ex-military policeman Jack Reacher is a drifte...</td>\n",
              "    </tr>\n",
              "    <tr>\n",
              "      <th>860</th>\n",
              "      <td>Civilization and Its Discontents</td>\n",
              "      <td>Two</td>\n",
              "      <td>59.95</td>\n",
              "      <td>http://books.toscrape.com/civilization-and-its...</td>\n",
              "      <td>http://books.toscrape.com/../media/cache/4d/a6...</td>\n",
              "      <td>In stock</td>\n",
              "      <td>Psychology</td>\n",
              "      <td>Humans and androids crowd the raucous streets ...</td>\n",
              "    </tr>\n",
              "    <tr>\n",
              "      <th>560</th>\n",
              "      <td>The Barefoot Contessa Cookbook</td>\n",
              "      <td>Five</td>\n",
              "      <td>59.92</td>\n",
              "      <td>http://books.toscrape.com/the-barefoot-contess...</td>\n",
              "      <td>http://books.toscrape.com/../media/cache/dd/07...</td>\n",
              "      <td>In stock</td>\n",
              "      <td>Food and Drink</td>\n",
              "      <td>In this striking literary debut, Carol Rifka B...</td>\n",
              "    </tr>\n",
              "    <tr>\n",
              "      <th>366</th>\n",
              "      <td>The Diary of a Young Girl</td>\n",
              "      <td>Three</td>\n",
              "      <td>59.90</td>\n",
              "      <td>http://books.toscrape.com/the-diary-of-a-young...</td>\n",
              "      <td>http://books.toscrape.com/../media/cache/83/d5...</td>\n",
              "      <td>In stock</td>\n",
              "      <td>Nonfiction</td>\n",
              "      <td>From New York Times bestselling author Ann Lea...</td>\n",
              "    </tr>\n",
              "    <tr>\n",
              "      <th>657</th>\n",
              "      <td>The Bone Hunters (Lexy Vaughan &amp; Steven Macaul...</td>\n",
              "      <td>Three</td>\n",
              "      <td>59.71</td>\n",
              "      <td>http://books.toscrape.com/the-bone-hunters-lex...</td>\n",
              "      <td>http://books.toscrape.com/../media/cache/ee/d4...</td>\n",
              "      <td>In stock</td>\n",
              "      <td>Thriller</td>\n",
              "      <td>Rhage and Mary return in a new novel of the Bl...</td>\n",
              "    </tr>\n",
              "    <tr>\n",
              "      <th>133</th>\n",
              "      <td>Thomas Jefferson and the Tripoli Pirates: The ...</td>\n",
              "      <td>One</td>\n",
              "      <td>59.64</td>\n",
              "      <td>http://books.toscrape.com/thomas-jefferson-and...</td>\n",
              "      <td>http://books.toscrape.com/../media/cache/97/47...</td>\n",
              "      <td>In stock</td>\n",
              "      <td>History</td>\n",
              "      <td>From the authors of the New York Times bestsel...</td>\n",
              "    </tr>\n",
              "    <tr>\n",
              "      <th>387</th>\n",
              "      <td>Boar Island (Anna Pigeon #19)</td>\n",
              "      <td>Three</td>\n",
              "      <td>59.48</td>\n",
              "      <td>http://books.toscrape.com/boar-island-anna-pig...</td>\n",
              "      <td>http://books.toscrape.com/../media/cache/d5/81...</td>\n",
              "      <td>In stock</td>\n",
              "      <td>Mystery</td>\n",
              "      <td>Bienvenue Ã  Paris!When April Vogt's boss tell...</td>\n",
              "    </tr>\n",
              "    <tr>\n",
              "      <th>393</th>\n",
              "      <td>The Improbability of Love</td>\n",
              "      <td>One</td>\n",
              "      <td>59.45</td>\n",
              "      <td>http://books.toscrape.com/the-improbability-of...</td>\n",
              "      <td>http://books.toscrape.com/../media/cache/06/49...</td>\n",
              "      <td>In stock</td>\n",
              "      <td>Fiction</td>\n",
              "      <td>The Art of Startup Fundraising takes a fresh l...</td>\n",
              "    </tr>\n",
              "    <tr>\n",
              "      <th>549</th>\n",
              "      <td>The Man Who Mistook His Wife for a Hat and Oth...</td>\n",
              "      <td>Four</td>\n",
              "      <td>59.45</td>\n",
              "      <td>http://books.toscrape.com/the-man-who-mistook-...</td>\n",
              "      <td>http://books.toscrape.com/../media/cache/92/fe...</td>\n",
              "      <td>In stock</td>\n",
              "      <td>Nonfiction</td>\n",
              "      <td>Chandler Alexander's The Makings of a Fatherle...</td>\n",
              "    </tr>\n",
              "  </tbody>\n",
              "</table>\n",
              "</div>"
            ],
            "text/plain": [
              "                                                Titles  ...                                        Description\n",
              "648                 The Perfect Play (Play by Play #1)  ...  Dolssa is a young gentlewoman with uncanny gif...\n",
              "617                  Last One Home (New Beginnings #1)  ...  Ex-military policeman Jack Reacher is a drifte...\n",
              "860                   Civilization and Its Discontents  ...  Humans and androids crowd the raucous streets ...\n",
              "560                     The Barefoot Contessa Cookbook  ...  In this striking literary debut, Carol Rifka B...\n",
              "366                          The Diary of a Young Girl  ...  From New York Times bestselling author Ann Lea...\n",
              "657  The Bone Hunters (Lexy Vaughan & Steven Macaul...  ...  Rhage and Mary return in a new novel of the Bl...\n",
              "133  Thomas Jefferson and the Tripoli Pirates: The ...  ...  From the authors of the New York Times bestsel...\n",
              "387                      Boar Island (Anna Pigeon #19)  ...  Bienvenue Ã  Paris!When April Vogt's boss tell...\n",
              "393                          The Improbability of Love  ...  The Art of Startup Fundraising takes a fresh l...\n",
              "549  The Man Who Mistook His Wife for a Hat and Oth...  ...  Chandler Alexander's The Makings of a Fatherle...\n",
              "\n",
              "[10 rows x 8 columns]"
            ]
          },
          "metadata": {
            "tags": []
          },
          "execution_count": 15
        }
      ]
    },
    {
      "cell_type": "code",
      "metadata": {
        "id": "MyVGE_Z5N1bU",
        "colab_type": "code",
        "colab": {}
      },
      "source": [
        "# From the above table, it is obvious that the most expensive book is The Perfect Play"
      ],
      "execution_count": 17,
      "outputs": []
    },
    {
      "cell_type": "code",
      "metadata": {
        "id": "JPmx9LbJOF1s",
        "colab_type": "code",
        "colab": {}
      },
      "source": [
        "# c. Are more expensive books also rated higher?"
      ],
      "execution_count": 18,
      "outputs": []
    },
    {
      "cell_type": "code",
      "metadata": {
        "id": "e1PksDPSOHzD",
        "colab_type": "code",
        "colab": {}
      },
      "source": [
        "# there is no any connection between expensive books and high ratings"
      ],
      "execution_count": 19,
      "outputs": []
    }
  ]
}